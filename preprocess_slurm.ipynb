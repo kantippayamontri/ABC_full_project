{
 "cells": [
  {
   "cell_type": "code",
   "execution_count": 17,
   "id": "e48027a5-d044-4a04-93b2-1166d4962043",
   "metadata": {},
   "outputs": [
    {
     "name": "stdout",
     "output_type": "stream",
     "text": [
      "The slurm_magic extension is already loaded. To reload it, use:\n",
      "  %reload_ext slurm_magic\n"
     ]
    }
   ],
   "source": [
    "%load_ext slurm_magic"
   ]
  },
  {
   "cell_type": "code",
   "execution_count": 35,
   "id": "1d4e2a91-1c45-4f9d-8034-a35a1b7fef8c",
   "metadata": {},
   "outputs": [
    {
     "data": {
      "text/plain": [
       "'Submitted batch job 5141\\n'"
      ]
     },
     "execution_count": 35,
     "metadata": {},
     "output_type": "execute_result"
    }
   ],
   "source": [
    "%%sbatch\n",
    "#!/bin/bash\n",
    "#SBATCH --gpus=1                 # total number of GPUs\n",
    "#SBATCH --partition=gpu         ## ระบุ partition ที่ต้องการใช้งาน\n",
    "#SBATCH -o mytest.%j.out         # Name of stdout output file (%j expands to jobId)\n",
    "#SBATCH --job-name=ABC        # Job name\n",
    "#SBATCH --time=10:00:00\n",
    "\n",
    "source $HOME/.bashrc\n",
    "\n",
    "module purge\n",
    "module load anaconda3\n",
    "module load cuda/11.8\n",
    "\n",
    "conda activate train_abc\n",
    "python check_gpu.py\n",
    "python --version"
   ]
  },
  {
   "cell_type": "code",
   "execution_count": 47,
   "id": "7cf982c1-6f94-4171-8080-19280bf0a54b",
   "metadata": {},
   "outputs": [
    {
     "name": "stdout",
     "output_type": "stream",
     "text": [
      "x = tensor([[0.3471, 0.9646, 0.4522],\n",
      "        [0.9152, 0.8078, 0.4726],\n",
      "        [0.1650, 0.4238, 0.6605],\n",
      "        [0.1926, 0.3502, 0.2608],\n",
      "        [0.9350, 0.6305, 0.1090]])\n",
      "check gpu: False\n",
      "Python 3.8.16\n"
     ]
    }
   ],
   "source": [
    "cat mytest.5141.out"
   ]
  }
 ],
 "metadata": {
  "kernelspec": {
   "display_name": "Python [conda env:root] *",
   "language": "python",
   "name": "conda-root-py"
  },
  "language_info": {
   "codemirror_mode": {
    "name": "ipython",
    "version": 3
   },
   "file_extension": ".py",
   "mimetype": "text/x-python",
   "name": "python",
   "nbconvert_exporter": "python",
   "pygments_lexer": "ipython3",
   "version": "3.9.12"
  }
 },
 "nbformat": 4,
 "nbformat_minor": 5
}
