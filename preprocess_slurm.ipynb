{
 "cells": [
  {
   "cell_type": "code",
   "execution_count": 17,
   "id": "e48027a5-d044-4a04-93b2-1166d4962043",
   "metadata": {},
   "outputs": [
    {
     "name": "stdout",
     "output_type": "stream",
     "text": [
      "The slurm_magic extension is already loaded. To reload it, use:\n",
      "  %reload_ext slurm_magic\n"
     ]
    }
   ],
   "source": [
    "%load_ext slurm_magic"
   ]
  },
  {
   "cell_type": "code",
   "execution_count": 19,
   "id": "1d4e2a91-1c45-4f9d-8034-a35a1b7fef8c",
   "metadata": {},
   "outputs": [
    {
     "data": {
      "text/plain": [
       "'Submitted batch job 7905\\n'"
      ]
     },
     "execution_count": 19,
     "metadata": {},
     "output_type": "execute_result"
    }
   ],
   "source": [
    "%%sbatch\n",
    "#!/usr/bin/bash\n",
    "#SBATCH --job-name=ABC_preprocess\t\t## create short name for job\n",
    "#SBATCH --output=abc_preprocess_%j.out    ## ชื่อไฟล์ Output (%j = Job-ID)\n",
    "#SBATCH --error=abc_preprocess_%j.err     ## ชื่อไฟล์ error (%j = Job-ID)\n",
    "#SBATCH --nodes=1\t\t\t## node count\n",
    "#SBATCH --ntasks=1\t\t\t## total number of task across all nodes\n",
    "#SBATCH --cpus-per-task=4 ## cpu-cores per task (>1 if multi-threaded tasks)\n",
    "#SBATCH --time=36:00:00\t\t\t## total run time limit(HH:MM:SS)\n",
    "#SBATCH --partition=cpu         ## ระบุ partition ที่ต้องการใช้งาน\n",
    "\n",
    "source $HOME/.bashrc\n",
    "source /opt/ohpc/pub/apps/anaconda3/2022.05/etc/profile.d/conda.sh\n",
    "conda env list\n",
    "conda deactivate\n",
    "conda activate train_abc\n",
    "python preprocess.py requirements.txt number"
   ]
  },
  {
   "cell_type": "code",
   "execution_count": 47,
   "id": "7cf982c1-6f94-4171-8080-19280bf0a54b",
   "metadata": {},
   "outputs": [
    {
     "name": "stdout",
     "output_type": "stream",
     "text": [
      "x = tensor([[0.3471, 0.9646, 0.4522],\n",
      "        [0.9152, 0.8078, 0.4726],\n",
      "        [0.1650, 0.4238, 0.6605],\n",
      "        [0.1926, 0.3502, 0.2608],\n",
      "        [0.9350, 0.6305, 0.1090]])\n",
      "check gpu: False\n",
      "Python 3.8.16\n"
     ]
    }
   ],
   "source": [
    "cat mytest.5141.out"
   ]
  }
 ],
 "metadata": {
  "kernelspec": {
   "display_name": "Python [conda env:root] *",
   "language": "python",
   "name": "conda-root-py"
  },
  "language_info": {
   "codemirror_mode": {
    "name": "ipython",
    "version": 3
   },
   "file_extension": ".py",
   "mimetype": "text/x-python",
   "name": "python",
   "nbconvert_exporter": "python",
   "pygments_lexer": "ipython3",
   "version": "3.9.12"
  }
 },
 "nbformat": 4,
 "nbformat_minor": 5
}
