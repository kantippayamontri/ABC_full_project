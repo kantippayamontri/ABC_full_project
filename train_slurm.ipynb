{
 "cells": [
  {
   "cell_type": "code",
   "execution_count": 18,
   "id": "6352e718-8fbe-4146-b90d-92844c3666a2",
   "metadata": {},
   "outputs": [
    {
     "name": "stdout",
     "output_type": "stream",
     "text": [
      "The slurm_magic extension is already loaded. To reload it, use:\n",
      "  %reload_ext slurm_magic\n"
     ]
    }
   ],
   "source": [
    "%load_ext slurm_magic"
   ]
  },
  {
   "cell_type": "code",
   "execution_count": 24,
   "id": "1ae3f570-62e9-43a0-8c93-9946aa8b77d8",
   "metadata": {},
   "outputs": [
    {
     "data": {
      "text/plain": [
       "'Submitted batch job 7534\\n'"
      ]
     },
     "execution_count": 24,
     "metadata": {},
     "output_type": "execute_result"
    }
   ],
   "source": [
    "%%sbatch\n",
    "#!/usr/bin/bash\n",
    "#SBATCH --job-name=ABC_train\t\t## create short name for job\n",
    "#SBATCH --output=abc_train_%j.out    ## ชื่อไฟล์ Output (%j = Job-ID)\n",
    "#SBATCH --error=abc_train_%j.err     ## ชื่อไฟล์ error (%j = Job-ID)\n",
    "#SBATCH --nodes=1\t\t\t## node count\n",
    "#SBATCH --ntasks=1\t\t\t## total number of task across all nodes\n",
    "#SBATCH --cpus-per-task=1 ## cpu-cores per task (>1 if multi-threaded tasks)\n",
    "#SBATCH --time=100:00:00\t\t\t## total run time limit(HH:MM:SS)\n",
    "#SBATCH --gpus=1                 # total number of GPUs\n",
    "#SBATCH --partition=gpu         ## ระบุ partition ที่ต้องการใช้งาน\n",
    "\n",
    "#CUDA matrix multiplication\n",
    "./mm_optimization\n",
    "\n",
    "source $HOME/.bashrc\n",
    "source /opt/ohpc/pub/apps/anaconda3/2022.05/etc/profile.d/conda.sh\n",
    "conda env list\n",
    "conda deactivate\n",
    "conda activate train_abc\n",
    "python check_gpu.py\n",
    "python --version\n",
    "python train.py requirements.txt digital extra_large --epochs 500 --img_size 1024 --batch_size 32 --cache True --patience 15 --device 0 --workers 32 --resume True -lr 0.001 -flr 0.01"
   ]
  },
  {
   "cell_type": "code",
   "execution_count": 17,
   "id": "d2f7bc81-6eec-4c64-ab34-c63edf94e52e",
   "metadata": {},
   "outputs": [
    {
     "data": {
      "text/plain": [
       "'/home/kan_tipp/ABC_full_project'"
      ]
     },
     "execution_count": 17,
     "metadata": {},
     "output_type": "execute_result"
    }
   ],
   "source": []
  },
  {
   "cell_type": "code",
   "execution_count": 20,
   "id": "2eada088-1036-446c-aaf4-1a5e29526c3a",
   "metadata": {},
   "outputs": [
    {
     "name": "stdout",
     "output_type": "stream",
     "text": [
      "Matrix Multiplication CUDA Latency\n",
      "m: 1024 n: 1024 p: 1024\n",
      "INT32: 0.72215 ms\n",
      "FLOAT: 0.72220 ms\n",
      "DOUBLE: 1.12234 ms\n",
      "Optimized Matrix Multiplication CUDA Latency\n",
      "m: 1024 n: 1024 p: 1024\n",
      "INT32: 0.44850 ms\n",
      "FLOAT: 0.44853 ms\n",
      "DOUBLE: 0.83094 ms\n",
      "# conda environments:\n",
      "#\n",
      "train_abc                /home/kan_tipp/.conda/envs/train_abc\n",
      "base                     /opt/ohpc/pub/apps/anaconda3/2022.05\n",
      "\n",
      "x = tensor([[0.5517, 0.2104, 0.6015],\n",
      "        [0.3779, 0.3878, 0.4015],\n",
      "        [0.6375, 0.4822, 0.7867],\n",
      "        [0.9767, 0.0161, 0.8735],\n",
      "        [0.9966, 0.2567, 0.2376]])\n",
      "check torch version: 1.13.0+cu117\n",
      "check gpu: True\n",
      "Python 3.8.16\n"
     ]
    }
   ],
   "source": [
    "cat abc_train_7430.out"
   ]
  },
  {
   "cell_type": "code",
   "execution_count": 21,
   "id": "27eacec7-9b06-41e3-b482-cdaf050783f8",
   "metadata": {},
   "outputs": [
    {
     "name": "stdout",
     "output_type": "stream",
     "text": [
      "sed: can't read /usr/share/Modules/init/.modulespath: No such file or directory\n",
      "ic| Constants.experiment_path: PosixPath('experiment')\n",
      "ic| experiment_name(dataset_type=dataset_type, model_type=model_type, project_path=project_name): '(ds_t)_digital_(m_t)_SMALL'\n"
     ]
    }
   ],
   "source": [
    "cat abc_train_7430.err"
   ]
  }
 ],
 "metadata": {
  "kernelspec": {
   "display_name": "Python [conda env:root] *",
   "language": "python",
   "name": "conda-root-py"
  },
  "language_info": {
   "codemirror_mode": {
    "name": "ipython",
    "version": 3
   },
   "file_extension": ".py",
   "mimetype": "text/x-python",
   "name": "python",
   "nbconvert_exporter": "python",
   "pygments_lexer": "ipython3",
   "version": "3.9.12"
  }
 },
 "nbformat": 4,
 "nbformat_minor": 5
}
