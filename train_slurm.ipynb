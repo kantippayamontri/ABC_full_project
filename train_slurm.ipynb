{
 "cells": [
  {
   "cell_type": "code",
   "execution_count": 1,
   "id": "46710530-a4bc-4ff1-b994-ff554e3ddc05",
   "metadata": {},
   "outputs": [],
   "source": [
    "%load_ext slurm_magic"
   ]
  },
  {
   "cell_type": "code",
   "execution_count": 8,
   "id": "bca56247-92d7-454d-a5f4-935107900e0c",
   "metadata": {},
   "outputs": [
    {
     "data": {
      "text/plain": [
       "'Submitted batch job 5124\\n'"
      ]
     },
     "execution_count": 8,
     "metadata": {},
     "output_type": "execute_result"
    }
   ],
   "source": [
    "%%sbatch\n",
    "#!/bin/bash\n",
    "#SBATCH --gpus=1                 # total number of GPUs\n",
    "#SBATCH -p gpu                   # specific partition (compute, memory, gpu)\n",
    "#SBATCH -o ABC_train.%j.out         # Name of stdout output file (%j expands to jobId)\n",
    "#SBATCH --job-name=train_ABC        # Job name\n",
    "#SBATCH --time=10:00:00\n",
    "\n",
    "source $HOME/.bashrc\n",
    "conda activate train_abc\n",
    "python check_gpu.py\n",
    "python --version"
   ]
  }
 ],
 "metadata": {
  "kernelspec": {
   "display_name": "Python [conda env:root] *",
   "language": "python",
   "name": "conda-root-py"
  },
  "language_info": {
   "codemirror_mode": {
    "name": "ipython",
    "version": 3
   },
   "file_extension": ".py",
   "mimetype": "text/x-python",
   "name": "python",
   "nbconvert_exporter": "python",
   "pygments_lexer": "ipython3",
   "version": "3.9.12"
  }
 },
 "nbformat": 4,
 "nbformat_minor": 5
}
